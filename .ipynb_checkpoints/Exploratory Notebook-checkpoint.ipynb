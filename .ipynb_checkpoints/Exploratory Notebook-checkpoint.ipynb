{
 "cells": [
  {
   "cell_type": "code",
   "execution_count": 1,
   "metadata": {},
   "outputs": [
    {
     "name": "stdout",
     "output_type": "stream",
     "text": [
      "{'apiSourceCode': 'https://pipedream.com/@/p_G6CLVM', 'cache': {'lastUpdated': '2 minutes ago', 'expires': 'in 3 minutes', 'lastUpdatedTimestamp': 1581165723338, 'expiresTimestamp': 1581166023338}, 'summaryStats': {'global': {'confirmed': 31532, 'recovered': 1763, 'deaths': 638}, 'mainlandChina': {'confirmed': 31215, 'recovered': 1750, 'deaths': 636}, 'nonMainlandChina': {'confirmed': 317, 'recovered': 13, 'deaths': 2}}, 'rawData': [{'Province/State': 'Hubei', 'Country/Region': 'Mainland China', 'Last Update': '2/7/20 14:03', 'Confirmed': '22112', 'Deaths': '618', 'Recovered': '867'}, {'Province/State': 'Guangdong', 'Country/Region': 'Mainland China', 'Last Update': '2/7/20 10:13', 'Confirmed': '1034', 'Deaths': '1', 'Recovered': '88'}, {'Province/State': 'Zhejiang', 'Country/Region': 'Mainland China', 'Last Update': '2/7/20 11:33', 'Confirmed': '1006', 'Deaths': '0', 'Recovered': '123'}, {'Province/State': 'Henan', 'Country/Region': 'Mainland China', 'Last Update': '2/7/20 14:03', 'Confirmed': '914', 'Deaths': '3', 'Recovered': '86'}, {'Province/State': 'Hunan', 'Country/Region': 'Mainland China', 'Last Update': '2/7/20 11:33', 'Confirmed': '772', 'Deaths': '0', 'Recovered': '112'}, {'Province/State': 'Anhui', 'Country/Region': 'Mainland China', 'Last Update': '2/7/20 5:13', 'Confirmed': '665', 'Deaths': '0', 'Recovered': '47'}, {'Province/State': 'Jiangxi', 'Country/Region': 'Mainland China', 'Last Update': '2/7/20 1:23', 'Confirmed': '661', 'Deaths': '0', 'Recovered': '45'}, {'Province/State': 'Chongqing', 'Country/Region': 'Mainland China', 'Last Update': '2/7/20 12:03', 'Confirmed': '415', 'Deaths': '2', 'Recovered': '31'}, {'Province/State': 'Jiangsu', 'Country/Region': 'Mainland China', 'Last Update': '2/7/20 14:03', 'Confirmed': '408', 'Deaths': '0', 'Recovered': '43'}, {'Province/State': 'Shandong', 'Country/Region': 'Mainland China', 'Last Update': '2/7/20 11:33', 'Confirmed': '386', 'Deaths': '0', 'Recovered': '37'}, {'Province/State': 'Sichuan', 'Country/Region': 'Mainland China', 'Last Update': '2/7/20 8:23', 'Confirmed': '344', 'Deaths': '1', 'Recovered': '42'}, {'Province/State': 'Beijing', 'Country/Region': 'Mainland China', 'Last Update': '2/7/20 3:23', 'Confirmed': '297', 'Deaths': '1', 'Recovered': '33'}, {'Province/State': 'Heilongjiang', 'Country/Region': 'Mainland China', 'Last Update': '2/7/20 7:43', 'Confirmed': '277', 'Deaths': '3', 'Recovered': '12'}, {'Province/State': 'Shanghai', 'Country/Region': 'Mainland China', 'Last Update': '2/7/20 6:14', 'Confirmed': '277', 'Deaths': '1', 'Recovered': '30'}, {'Province/State': 'Fujian', 'Country/Region': 'Mainland China', 'Last Update': '2/7/20 13:23', 'Confirmed': '224', 'Deaths': '0', 'Recovered': '20'}, {'Province/State': 'Shaanxi', 'Country/Region': 'Mainland China', 'Last Update': '2/7/20 8:23', 'Confirmed': '184', 'Deaths': '0', 'Recovered': '17'}, {'Province/State': 'Guangxi', 'Country/Region': 'Mainland China', 'Last Update': '2/7/20 0:33', 'Confirmed': '172', 'Deaths': '0', 'Recovered': '17'}, {'Province/State': 'Hebei', 'Country/Region': 'Mainland China', 'Last Update': '2/7/20 12:03', 'Confirmed': '172', 'Deaths': '1', 'Recovered': '22'}, {'Province/State': 'Yunnan', 'Country/Region': 'Mainland China', 'Last Update': '2/7/20 23:23', 'Confirmed': '138', 'Deaths': '0', 'Recovered': '12'}, {'Province/State': 'Hainan', 'Country/Region': 'Mainland China', 'Last Update': '2/7/20 12:33', 'Confirmed': '117', 'Deaths': '2', 'Recovered': '10'}, {'Province/State': 'Liaoning', 'Country/Region': 'Mainland China', 'Last Update': '2/7/20 15:33', 'Confirmed': '99', 'Deaths': '0', 'Recovered': '7'}, {'Province/State': 'Shanxi', 'Country/Region': 'Mainland China', 'Last Update': '2/7/20 12:33', 'Confirmed': '96', 'Deaths': '0', 'Recovered': '15'}, {'Province/State': 'Guizhou', 'Country/Region': 'Mainland China', 'Last Update': '2/7/20 11:13', 'Confirmed': '81', 'Deaths': '1', 'Recovered': '6'}, {'Province/State': 'Tianjin', 'Country/Region': 'Mainland China', 'Last Update': '2/7/20 5:43', 'Confirmed': '81', 'Deaths': '1', 'Recovered': '2'}, {'Province/State': 'Gansu', 'Country/Region': 'Mainland China', 'Last Update': '2/7/20 2:33', 'Confirmed': '67', 'Deaths': '0', 'Recovered': '9'}, {'Province/State': 'Jilin', 'Country/Region': 'Mainland China', 'Last Update': '2/7/20 0:43', 'Confirmed': '65', 'Deaths': '1', 'Recovered': '4'}, {'Province/State': 'Cruise Ship', 'Country/Region': 'Others', 'Last Update': '2/7/20 16:33', 'Confirmed': '61', 'Deaths': '0', 'Recovered': '0'}, {'Province/State': 'Inner Mongolia', 'Country/Region': 'Mainland China', 'Last Update': '2/7/20 11:13', 'Confirmed': '50', 'Deaths': '0', 'Recovered': '5'}, {'Province/State': 'Ningxia', 'Country/Region': 'Mainland China', 'Last Update': '2/7/20 11:13', 'Confirmed': '43', 'Deaths': '0', 'Recovered': '5'}, {'Province/State': 'Xinjiang', 'Country/Region': 'Mainland China', 'Last Update': '2/7/20 1:43', 'Confirmed': '39', 'Deaths': '0', 'Recovered': '0'}, {'Province/State': '', 'Country/Region': 'Singapore', 'Last Update': '2/7/20 3:03', 'Confirmed': '30', 'Deaths': '0', 'Recovered': '0'}, {'Province/State': 'Hong Kong', 'Country/Region': 'Hong Kong', 'Last Update': '2/7/20 11:53', 'Confirmed': '25', 'Deaths': '1', 'Recovered': '0'}, {'Province/State': '', 'Country/Region': 'Japan', 'Last Update': '2/7/20 4:13', 'Confirmed': '25', 'Deaths': '0', 'Recovered': '1'}, {'Province/State': '', 'Country/Region': 'Thailand', 'Last Update': '2/4/20 15:33', 'Confirmed': '25', 'Deaths': '0', 'Recovered': '5'}, {'Province/State': '', 'Country/Region': 'South Korea', 'Last Update': '2/7/20 3:03', 'Confirmed': '24', 'Deaths': '0', 'Recovered': '1'}, {'Province/State': 'Qinghai', 'Country/Region': 'Mainland China', 'Last Update': '2/6/20 2:13', 'Confirmed': '18', 'Deaths': '0', 'Recovered': '3'}, {'Province/State': 'Taiwan', 'Country/Region': 'Taiwan', 'Last Update': '2/6/20 15:03', 'Confirmed': '16', 'Deaths': '0', 'Recovered': '1'}, {'Province/State': '', 'Country/Region': 'Germany', 'Last Update': '2/7/20 16:33', 'Confirmed': '13', 'Deaths': '0', 'Recovered': '0'}, {'Province/State': '', 'Country/Region': 'Malaysia', 'Last Update': '2/7/20 9:13', 'Confirmed': '12', 'Deaths': '0', 'Recovered': '1'}, {'Province/State': 'Macau', 'Country/Region': 'Macau', 'Last Update': '2/6/20 14:23', 'Confirmed': '10', 'Deaths': '0', 'Recovered': '1'}, {'Province/State': '', 'Country/Region': 'Vietnam', 'Last Update': '2/6/20 1:13', 'Confirmed': '10', 'Deaths': '0', 'Recovered': '1'}, {'Province/State': '', 'Country/Region': 'France', 'Last Update': '2/1/20 1:52', 'Confirmed': '6', 'Deaths': '0', 'Recovered': '0'}, {'Province/State': 'Queensland', 'Country/Region': 'Australia', 'Last Update': '2/7/20 1:03', 'Confirmed': '5', 'Deaths': '0', 'Recovered': '0'}, {'Province/State': '', 'Country/Region': 'United Arab Emirates', 'Last Update': '2/2/20 5:43', 'Confirmed': '5', 'Deaths': '0', 'Recovered': '0'}, {'Province/State': 'New South Wales', 'Country/Region': 'Australia', 'Last Update': '2/6/20 3:13', 'Confirmed': '4', 'Deaths': '0', 'Recovered': '2'}, {'Province/State': 'Victoria', 'Country/Region': 'Australia', 'Last Update': '2/1/20 18:12', 'Confirmed': '4', 'Deaths': '0', 'Recovered': '0'}, {'Province/State': 'British Columbia', 'Country/Region': 'Canada', 'Last Update': '2/7/20 5:43', 'Confirmed': '4', 'Deaths': '0', 'Recovered': '0'}, {'Province/State': '', 'Country/Region': 'India', 'Last Update': '2/3/20 21:43', 'Confirmed': '3', 'Deaths': '0', 'Recovered': '0'}, {'Province/State': '', 'Country/Region': 'Italy', 'Last Update': '2/7/20 17:53', 'Confirmed': '3', 'Deaths': '0', 'Recovered': '0'}, {'Province/State': '', 'Country/Region': 'Philippines', 'Last Update': '2/7/20 16:43', 'Confirmed': '3', 'Deaths': '1', 'Recovered': '0'}, {'Province/State': '', 'Country/Region': 'UK', 'Last Update': '2/7/20 18:33', 'Confirmed': '3', 'Deaths': '0', 'Recovered': '0'}, {'Province/State': 'South Australia', 'Country/Region': 'Australia', 'Last Update': '2/2/20 22:33', 'Confirmed': '2', 'Deaths': '0', 'Recovered': '0'}, {'Province/State': 'Toronto, ON', 'Country/Region': 'Canada', 'Last Update': '2/4/20 0:13', 'Confirmed': '2', 'Deaths': '0', 'Recovered': '0'}, {'Province/State': '', 'Country/Region': 'Russia', 'Last Update': '1/31/20 16:13', 'Confirmed': '2', 'Deaths': '0', 'Recovered': '0'}, {'Province/State': 'Chicago, IL', 'Country/Region': 'US', 'Last Update': '2/1/20 19:43', 'Confirmed': '2', 'Deaths': '0', 'Recovered': '0'}, {'Province/State': 'San Benito, CA', 'Country/Region': 'US', 'Last Update': '2/3/20 3:53', 'Confirmed': '2', 'Deaths': '0', 'Recovered': '0'}, {'Province/State': 'Santa Clara, CA', 'Country/Region': 'US', 'Last Update': '2/3/20 0:43', 'Confirmed': '2', 'Deaths': '0', 'Recovered': '0'}, {'Province/State': '', 'Country/Region': 'Belgium', 'Last Update': '2/4/20 15:43', 'Confirmed': '1', 'Deaths': '0', 'Recovered': '0'}, {'Province/State': '', 'Country/Region': 'Cambodia', 'Last Update': '1/31/20 8:15', 'Confirmed': '1', 'Deaths': '0', 'Recovered': '0'}, {'Province/State': 'London, ON', 'Country/Region': 'Canada', 'Last Update': '2/4/20 0:03', 'Confirmed': '1', 'Deaths': '0', 'Recovered': '0'}, {'Province/State': '', 'Country/Region': 'Finland', 'Last Update': '1/31/20 8:15', 'Confirmed': '1', 'Deaths': '0', 'Recovered': '0'}, {'Province/State': 'Tibet', 'Country/Region': 'Mainland China', 'Last Update': '2/1/20 1:52', 'Confirmed': '1', 'Deaths': '0', 'Recovered': '0'}, {'Province/State': '', 'Country/Region': 'Nepal', 'Last Update': '1/31/20 8:15', 'Confirmed': '1', 'Deaths': '0', 'Recovered': '0'}, {'Province/State': '', 'Country/Region': 'Spain', 'Last Update': '2/1/20 23:43', 'Confirmed': '1', 'Deaths': '0', 'Recovered': '0'}, {'Province/State': '', 'Country/Region': 'Sri Lanka', 'Last Update': '1/31/20 8:15', 'Confirmed': '1', 'Deaths': '0', 'Recovered': '0'}, {'Province/State': '', 'Country/Region': 'Sweden', 'Last Update': '2/1/20 2:13', 'Confirmed': '1', 'Deaths': '0', 'Recovered': '0'}, {'Province/State': 'Boston, MA', 'Country/Region': 'US', 'Last Update': '2/1/20 19:43', 'Confirmed': '1', 'Deaths': '0', 'Recovered': '0'}, {'Province/State': 'Los Angeles, CA', 'Country/Region': 'US', 'Last Update': '2/1/20 19:53', 'Confirmed': '1', 'Deaths': '0', 'Recovered': '0'}, {'Province/State': 'Madison, WI', 'Country/Region': 'US', 'Last Update': '2/5/20 21:53', 'Confirmed': '1', 'Deaths': '0', 'Recovered': '0'}, {'Province/State': 'Orange, CA', 'Country/Region': 'US', 'Last Update': '2/1/20 19:53', 'Confirmed': '1', 'Deaths': '0', 'Recovered': '0'}, {'Province/State': 'Seattle, WA', 'Country/Region': 'US', 'Last Update': '2/1/20 19:43', 'Confirmed': '1', 'Deaths': '0', 'Recovered': '0'}, {'Province/State': 'Tempe, AZ', 'Country/Region': 'US', 'Last Update': '2/1/20 19:43', 'Confirmed': '1', 'Deaths': '0', 'Recovered': '0'}], 'dataSource': {'googleSpreadsheetId': '1wQVypefm946ch4XDp37uZ-wartW4V7ILdg-qYiDXUHM', 'range': 'Feb07_0813PM!A1:F1000', 'googleSheetLastModified': '2020-02-08T12:11:04.628Z', 'dataLastPublished': '4 hours ago', 'dataPublishedBy': 'John Hopkins University Center for Systems Science and Engineering', 'ref': 'https://gisanddata.maps.arcgis.com/apps/opsdashboard/index.html#/bda7594740fd40299423467b48e9ecf6'}}\n"
     ]
    }
   ],
   "source": [
    "import requests\n",
    "\n",
    "r = requests.get(\"https://coronavirus.m.pipedream.net/\")\n",
    "data = r.json()\n",
    "print(data)"
   ]
  },
  {
   "cell_type": "code",
   "execution_count": 4,
   "metadata": {},
   "outputs": [
    {
     "data": {
      "text/plain": [
       "{'global': {'confirmed': 31532, 'recovered': 1763, 'deaths': 638},\n",
       " 'mainlandChina': {'confirmed': 31215, 'recovered': 1750, 'deaths': 636},\n",
       " 'nonMainlandChina': {'confirmed': 317, 'recovered': 13, 'deaths': 2}}"
      ]
     },
     "execution_count": 4,
     "metadata": {},
     "output_type": "execute_result"
    }
   ],
   "source": [
    "data['summaryStats']"
   ]
  },
  {
   "cell_type": "code",
   "execution_count": 10,
   "metadata": {},
   "outputs": [
    {
     "data": {
      "text/html": [
       "<div>\n",
       "<style scoped>\n",
       "    .dataframe tbody tr th:only-of-type {\n",
       "        vertical-align: middle;\n",
       "    }\n",
       "\n",
       "    .dataframe tbody tr th {\n",
       "        vertical-align: top;\n",
       "    }\n",
       "\n",
       "    .dataframe thead th {\n",
       "        text-align: right;\n",
       "    }\n",
       "</style>\n",
       "<table border=\"1\" class=\"dataframe\">\n",
       "  <thead>\n",
       "    <tr style=\"text-align: right;\">\n",
       "      <th></th>\n",
       "      <th>Province/State</th>\n",
       "      <th>Country/Region</th>\n",
       "      <th>Last Update</th>\n",
       "      <th>Confirmed</th>\n",
       "      <th>Deaths</th>\n",
       "      <th>Recovered</th>\n",
       "    </tr>\n",
       "  </thead>\n",
       "  <tbody>\n",
       "    <tr>\n",
       "      <th>0</th>\n",
       "      <td>Hubei</td>\n",
       "      <td>Mainland China</td>\n",
       "      <td>2/7/20 14:03</td>\n",
       "      <td>22112</td>\n",
       "      <td>618</td>\n",
       "      <td>867</td>\n",
       "    </tr>\n",
       "    <tr>\n",
       "      <th>1</th>\n",
       "      <td>Guangdong</td>\n",
       "      <td>Mainland China</td>\n",
       "      <td>2/7/20 10:13</td>\n",
       "      <td>1034</td>\n",
       "      <td>1</td>\n",
       "      <td>88</td>\n",
       "    </tr>\n",
       "    <tr>\n",
       "      <th>2</th>\n",
       "      <td>Zhejiang</td>\n",
       "      <td>Mainland China</td>\n",
       "      <td>2/7/20 11:33</td>\n",
       "      <td>1006</td>\n",
       "      <td>0</td>\n",
       "      <td>123</td>\n",
       "    </tr>\n",
       "    <tr>\n",
       "      <th>3</th>\n",
       "      <td>Henan</td>\n",
       "      <td>Mainland China</td>\n",
       "      <td>2/7/20 14:03</td>\n",
       "      <td>914</td>\n",
       "      <td>3</td>\n",
       "      <td>86</td>\n",
       "    </tr>\n",
       "    <tr>\n",
       "      <th>4</th>\n",
       "      <td>Hunan</td>\n",
       "      <td>Mainland China</td>\n",
       "      <td>2/7/20 11:33</td>\n",
       "      <td>772</td>\n",
       "      <td>0</td>\n",
       "      <td>112</td>\n",
       "    </tr>\n",
       "    <tr>\n",
       "      <th>...</th>\n",
       "      <td>...</td>\n",
       "      <td>...</td>\n",
       "      <td>...</td>\n",
       "      <td>...</td>\n",
       "      <td>...</td>\n",
       "      <td>...</td>\n",
       "    </tr>\n",
       "    <tr>\n",
       "      <th>67</th>\n",
       "      <td>Los Angeles, CA</td>\n",
       "      <td>US</td>\n",
       "      <td>2/1/20 19:53</td>\n",
       "      <td>1</td>\n",
       "      <td>0</td>\n",
       "      <td>0</td>\n",
       "    </tr>\n",
       "    <tr>\n",
       "      <th>68</th>\n",
       "      <td>Madison, WI</td>\n",
       "      <td>US</td>\n",
       "      <td>2/5/20 21:53</td>\n",
       "      <td>1</td>\n",
       "      <td>0</td>\n",
       "      <td>0</td>\n",
       "    </tr>\n",
       "    <tr>\n",
       "      <th>69</th>\n",
       "      <td>Orange, CA</td>\n",
       "      <td>US</td>\n",
       "      <td>2/1/20 19:53</td>\n",
       "      <td>1</td>\n",
       "      <td>0</td>\n",
       "      <td>0</td>\n",
       "    </tr>\n",
       "    <tr>\n",
       "      <th>70</th>\n",
       "      <td>Seattle, WA</td>\n",
       "      <td>US</td>\n",
       "      <td>2/1/20 19:43</td>\n",
       "      <td>1</td>\n",
       "      <td>0</td>\n",
       "      <td>0</td>\n",
       "    </tr>\n",
       "    <tr>\n",
       "      <th>71</th>\n",
       "      <td>Tempe, AZ</td>\n",
       "      <td>US</td>\n",
       "      <td>2/1/20 19:43</td>\n",
       "      <td>1</td>\n",
       "      <td>0</td>\n",
       "      <td>0</td>\n",
       "    </tr>\n",
       "  </tbody>\n",
       "</table>\n",
       "<p>72 rows × 6 columns</p>\n",
       "</div>"
      ],
      "text/plain": [
       "     Province/State  Country/Region   Last Update Confirmed Deaths Recovered\n",
       "0             Hubei  Mainland China  2/7/20 14:03     22112    618       867\n",
       "1         Guangdong  Mainland China  2/7/20 10:13      1034      1        88\n",
       "2          Zhejiang  Mainland China  2/7/20 11:33      1006      0       123\n",
       "3             Henan  Mainland China  2/7/20 14:03       914      3        86\n",
       "4             Hunan  Mainland China  2/7/20 11:33       772      0       112\n",
       "..              ...             ...           ...       ...    ...       ...\n",
       "67  Los Angeles, CA              US  2/1/20 19:53         1      0         0\n",
       "68      Madison, WI              US  2/5/20 21:53         1      0         0\n",
       "69       Orange, CA              US  2/1/20 19:53         1      0         0\n",
       "70      Seattle, WA              US  2/1/20 19:43         1      0         0\n",
       "71        Tempe, AZ              US  2/1/20 19:43         1      0         0\n",
       "\n",
       "[72 rows x 6 columns]"
      ]
     },
     "execution_count": 10,
     "metadata": {},
     "output_type": "execute_result"
    }
   ],
   "source": [
    "import pandas as pd\n",
    "pd.json_normalize(data['rawData'])"
   ]
  }
 ],
 "metadata": {
  "kernelspec": {
   "display_name": "Python 3",
   "language": "python",
   "name": "python3"
  },
  "language_info": {
   "codemirror_mode": {
    "name": "ipython",
    "version": 3
   },
   "file_extension": ".py",
   "mimetype": "text/x-python",
   "name": "python",
   "nbconvert_exporter": "python",
   "pygments_lexer": "ipython3",
   "version": "3.8.1"
  }
 },
 "nbformat": 4,
 "nbformat_minor": 4
}
